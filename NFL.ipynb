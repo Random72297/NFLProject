{
 "cells": [
  {
   "cell_type": "code",
   "execution_count": 1,
   "id": "544bdd3a",
   "metadata": {},
   "outputs": [],
   "source": [
    "import pandas as pd\n",
    "import numpy as np\n",
    "from matplotlib import pyplot as plt\n",
    "import seaborn as sns\n",
    "%matplotlib inline"
   ]
  },
  {
   "cell_type": "markdown",
   "id": "08320439",
   "metadata": {},
   "source": [
    "## Load Data"
   ]
  },
  {
   "cell_type": "code",
   "execution_count": 2,
   "id": "99ab4139",
   "metadata": {},
   "outputs": [],
   "source": [
    "df = pd.read_csv('NFL.csv') #Load csv into a DataFrame"
   ]
  },
  {
   "cell_type": "code",
   "execution_count": 3,
   "id": "a1776c61",
   "metadata": {},
   "outputs": [
    {
     "data": {
      "text/html": [
       "<div>\n",
       "<style scoped>\n",
       "    .dataframe tbody tr th:only-of-type {\n",
       "        vertical-align: middle;\n",
       "    }\n",
       "\n",
       "    .dataframe tbody tr th {\n",
       "        vertical-align: top;\n",
       "    }\n",
       "\n",
       "    .dataframe thead th {\n",
       "        text-align: right;\n",
       "    }\n",
       "</style>\n",
       "<table border=\"1\" class=\"dataframe\">\n",
       "  <thead>\n",
       "    <tr style=\"text-align: right;\">\n",
       "      <th></th>\n",
       "      <th>Year</th>\n",
       "      <th>Player</th>\n",
       "      <th>Age</th>\n",
       "      <th>School</th>\n",
       "      <th>Height</th>\n",
       "      <th>Weight</th>\n",
       "      <th>Sprint_40yd</th>\n",
       "      <th>Vertical_Jump</th>\n",
       "      <th>Bench_Press_Reps</th>\n",
       "      <th>Broad_Jump</th>\n",
       "      <th>Agility_3cone</th>\n",
       "      <th>Shuttle</th>\n",
       "      <th>Drafted..tm.rnd.yr.</th>\n",
       "      <th>BMI</th>\n",
       "      <th>Player_Type</th>\n",
       "      <th>Position_Type</th>\n",
       "      <th>Position</th>\n",
       "      <th>Drafted</th>\n",
       "    </tr>\n",
       "  </thead>\n",
       "  <tbody>\n",
       "    <tr>\n",
       "      <th>0</th>\n",
       "      <td>2009</td>\n",
       "      <td>Beanie Wells\\WellCh00</td>\n",
       "      <td>20.0</td>\n",
       "      <td>Ohio St.</td>\n",
       "      <td>1.8542</td>\n",
       "      <td>106.594207</td>\n",
       "      <td>4.38</td>\n",
       "      <td>85.09</td>\n",
       "      <td>25.0</td>\n",
       "      <td>325.12</td>\n",
       "      <td>NaN</td>\n",
       "      <td>NaN</td>\n",
       "      <td>Arizona Cardinals / 1st / 31st pick / 2009</td>\n",
       "      <td>31.004194</td>\n",
       "      <td>offense</td>\n",
       "      <td>backs_receivers</td>\n",
       "      <td>RB</td>\n",
       "      <td>Yes</td>\n",
       "    </tr>\n",
       "    <tr>\n",
       "      <th>1</th>\n",
       "      <td>2009</td>\n",
       "      <td>Will Davis\\DaviWi99</td>\n",
       "      <td>22.0</td>\n",
       "      <td>Illinois</td>\n",
       "      <td>1.8796</td>\n",
       "      <td>118.387609</td>\n",
       "      <td>4.84</td>\n",
       "      <td>83.82</td>\n",
       "      <td>27.0</td>\n",
       "      <td>292.10</td>\n",
       "      <td>7.38</td>\n",
       "      <td>4.45</td>\n",
       "      <td>Arizona Cardinals / 6th / 204th pick / 2009</td>\n",
       "      <td>33.510073</td>\n",
       "      <td>defense</td>\n",
       "      <td>defensive_lineman</td>\n",
       "      <td>DE</td>\n",
       "      <td>Yes</td>\n",
       "    </tr>\n",
       "    <tr>\n",
       "      <th>2</th>\n",
       "      <td>2009</td>\n",
       "      <td>Herman Johnson\\JohnHe23</td>\n",
       "      <td>24.0</td>\n",
       "      <td>LSU</td>\n",
       "      <td>2.0066</td>\n",
       "      <td>165.107623</td>\n",
       "      <td>5.50</td>\n",
       "      <td>NaN</td>\n",
       "      <td>21.0</td>\n",
       "      <td>NaN</td>\n",
       "      <td>NaN</td>\n",
       "      <td>NaN</td>\n",
       "      <td>Arizona Cardinals / 5th / 167th pick / 2009</td>\n",
       "      <td>41.005821</td>\n",
       "      <td>offense</td>\n",
       "      <td>offensive_lineman</td>\n",
       "      <td>OG</td>\n",
       "      <td>Yes</td>\n",
       "    </tr>\n",
       "    <tr>\n",
       "      <th>3</th>\n",
       "      <td>2009</td>\n",
       "      <td>Rashad Johnson\\JohnRa98</td>\n",
       "      <td>23.0</td>\n",
       "      <td>Alabama</td>\n",
       "      <td>1.8034</td>\n",
       "      <td>92.079251</td>\n",
       "      <td>4.49</td>\n",
       "      <td>93.98</td>\n",
       "      <td>15.0</td>\n",
       "      <td>304.80</td>\n",
       "      <td>7.09</td>\n",
       "      <td>4.23</td>\n",
       "      <td>Arizona Cardinals / 3rd / 95th pick / 2009</td>\n",
       "      <td>28.312463</td>\n",
       "      <td>defense</td>\n",
       "      <td>defensive_back</td>\n",
       "      <td>FS</td>\n",
       "      <td>Yes</td>\n",
       "    </tr>\n",
       "    <tr>\n",
       "      <th>4</th>\n",
       "      <td>2009</td>\n",
       "      <td>Cody Brown\\BrowCo96</td>\n",
       "      <td>22.0</td>\n",
       "      <td>Connecticut</td>\n",
       "      <td>1.8796</td>\n",
       "      <td>110.676538</td>\n",
       "      <td>4.76</td>\n",
       "      <td>92.71</td>\n",
       "      <td>26.0</td>\n",
       "      <td>304.80</td>\n",
       "      <td>7.10</td>\n",
       "      <td>4.40</td>\n",
       "      <td>Arizona Cardinals / 2nd / 63rd pick / 2009</td>\n",
       "      <td>31.327425</td>\n",
       "      <td>defense</td>\n",
       "      <td>line_backer</td>\n",
       "      <td>OLB</td>\n",
       "      <td>Yes</td>\n",
       "    </tr>\n",
       "  </tbody>\n",
       "</table>\n",
       "</div>"
      ],
      "text/plain": [
       "   Year                   Player   Age       School  Height      Weight  \\\n",
       "0  2009    Beanie Wells\\WellCh00  20.0     Ohio St.  1.8542  106.594207   \n",
       "1  2009      Will Davis\\DaviWi99  22.0     Illinois  1.8796  118.387609   \n",
       "2  2009  Herman Johnson\\JohnHe23  24.0          LSU  2.0066  165.107623   \n",
       "3  2009  Rashad Johnson\\JohnRa98  23.0      Alabama  1.8034   92.079251   \n",
       "4  2009      Cody Brown\\BrowCo96  22.0  Connecticut  1.8796  110.676538   \n",
       "\n",
       "   Sprint_40yd  Vertical_Jump  Bench_Press_Reps  Broad_Jump  Agility_3cone  \\\n",
       "0         4.38          85.09              25.0      325.12            NaN   \n",
       "1         4.84          83.82              27.0      292.10           7.38   \n",
       "2         5.50            NaN              21.0         NaN            NaN   \n",
       "3         4.49          93.98              15.0      304.80           7.09   \n",
       "4         4.76          92.71              26.0      304.80           7.10   \n",
       "\n",
       "   Shuttle                          Drafted..tm.rnd.yr.        BMI  \\\n",
       "0      NaN   Arizona Cardinals / 1st / 31st pick / 2009  31.004194   \n",
       "1     4.45  Arizona Cardinals / 6th / 204th pick / 2009  33.510073   \n",
       "2      NaN  Arizona Cardinals / 5th / 167th pick / 2009  41.005821   \n",
       "3     4.23   Arizona Cardinals / 3rd / 95th pick / 2009  28.312463   \n",
       "4     4.40   Arizona Cardinals / 2nd / 63rd pick / 2009  31.327425   \n",
       "\n",
       "  Player_Type      Position_Type Position Drafted  \n",
       "0     offense    backs_receivers       RB     Yes  \n",
       "1     defense  defensive_lineman       DE     Yes  \n",
       "2     offense  offensive_lineman       OG     Yes  \n",
       "3     defense     defensive_back       FS     Yes  \n",
       "4     defense        line_backer      OLB     Yes  "
      ]
     },
     "execution_count": 3,
     "metadata": {},
     "output_type": "execute_result"
    }
   ],
   "source": [
    "df.head()"
   ]
  },
  {
   "cell_type": "markdown",
   "id": "ce8529eb",
   "metadata": {},
   "source": [
    "## Clean Data"
   ]
  },
  {
   "cell_type": "code",
   "execution_count": 4,
   "id": "92fe88ae",
   "metadata": {},
   "outputs": [],
   "source": [
    "df.Position.replace(['DB','FS', 'SS'],'S', inplace=True) #get rid of db and s postions"
   ]
  },
  {
   "cell_type": "code",
   "execution_count": 5,
   "id": "0dc7e57b",
   "metadata": {},
   "outputs": [],
   "source": [
    "df['Age'].fillna(value=df['Age'].mean(), inplace=True) #Replace missing Age with Mean "
   ]
  },
  {
   "cell_type": "code",
   "execution_count": 6,
   "id": "786b7aad",
   "metadata": {
    "scrolled": true
   },
   "outputs": [
    {
     "data": {
      "text/plain": [
       "0.6482599942479149"
      ]
     },
     "execution_count": 6,
     "metadata": {},
     "output_type": "execute_result"
    }
   ],
   "source": [
    "len(df[df.Drafted == 'Yes'])/len(df) #Percent of people who get drafted"
   ]
  },
  {
   "cell_type": "code",
   "execution_count": 7,
   "id": "6d3a452d",
   "metadata": {},
   "outputs": [],
   "source": [
    "\n",
    "df.rename(columns={\"Drafted..tm.rnd.yr.\": \"Round\",'Bench_Press_Reps':'Bench','Sprint_40yd':'40yd'},inplace=True) #Rename column\n",
    "df['Round']=df.Round.str.split('/',expand=True)[1] # Split and choose Round\n",
    "df['Player']=df.Player.str.split('\\\\',expand=True)[0]"
   ]
  },
  {
   "cell_type": "code",
   "execution_count": 8,
   "id": "b239b95a",
   "metadata": {},
   "outputs": [],
   "source": [
    "df['Weight']= df['Weight']*2.2 #Convert Weight to lbs\n",
    "df['Vertical_Jump'] = df['Vertical_Jump']*0.393\n",
    "df['Broad_Jump'] = df['Broad_Jump']*0.393"
   ]
  },
  {
   "cell_type": "code",
   "execution_count": 9,
   "id": "9ab485a8",
   "metadata": {},
   "outputs": [
    {
     "name": "stdout",
     "output_type": "stream",
     "text": [
      "converted\n"
     ]
    }
   ],
   "source": [
    "#1kg = 2.20462lbs\n",
    "#1m = 39.3701\"\n",
    "#1ft = 12 Inches\n",
    "ran = 0\n",
    "def m_to_ft(data, col):\n",
    "    #Conver meters to feet and inches. Make sure it converts only once\n",
    "    global ran\n",
    "    if ran<1:\n",
    "        height = data[col]*39.3701\n",
    "        for i in range(len(height)):\n",
    "            height[i]= '{}.{}'.format(int(height[i]//12),int(height[i]%12))\n",
    "        data['{}_ft'.format(col)] = height\n",
    "        ran+=1\n",
    "    print('converted')\n",
    "m_to_ft(df, 'Height')"
   ]
  },
  {
   "cell_type": "code",
   "execution_count": 10,
   "id": "dd7ea22c",
   "metadata": {},
   "outputs": [
    {
     "data": {
      "text/html": [
       "<div>\n",
       "<style scoped>\n",
       "    .dataframe tbody tr th:only-of-type {\n",
       "        vertical-align: middle;\n",
       "    }\n",
       "\n",
       "    .dataframe tbody tr th {\n",
       "        vertical-align: top;\n",
       "    }\n",
       "\n",
       "    .dataframe thead th {\n",
       "        text-align: right;\n",
       "    }\n",
       "</style>\n",
       "<table border=\"1\" class=\"dataframe\">\n",
       "  <thead>\n",
       "    <tr style=\"text-align: right;\">\n",
       "      <th></th>\n",
       "      <th>Year</th>\n",
       "      <th>Age</th>\n",
       "      <th>Height</th>\n",
       "      <th>Weight</th>\n",
       "      <th>40yd</th>\n",
       "      <th>Vertical_Jump</th>\n",
       "      <th>Bench</th>\n",
       "      <th>Broad_Jump</th>\n",
       "      <th>Agility_3cone</th>\n",
       "      <th>Shuttle</th>\n",
       "      <th>BMI</th>\n",
       "    </tr>\n",
       "  </thead>\n",
       "  <tbody>\n",
       "    <tr>\n",
       "      <th>count</th>\n",
       "      <td>3477.000000</td>\n",
       "      <td>3477.000000</td>\n",
       "      <td>3477.000000</td>\n",
       "      <td>3477.000000</td>\n",
       "      <td>3303.000000</td>\n",
       "      <td>2780.000000</td>\n",
       "      <td>2572.000000</td>\n",
       "      <td>2749.000000</td>\n",
       "      <td>2260.000000</td>\n",
       "      <td>2337.000000</td>\n",
       "      <td>3477.000000</td>\n",
       "    </tr>\n",
       "    <tr>\n",
       "      <th>mean</th>\n",
       "      <td>2013.823699</td>\n",
       "      <td>21.983259</td>\n",
       "      <td>1.873968</td>\n",
       "      <td>241.442066</td>\n",
       "      <td>4.769080</td>\n",
       "      <td>32.773214</td>\n",
       "      <td>20.241058</td>\n",
       "      <td>114.610471</td>\n",
       "      <td>7.237416</td>\n",
       "      <td>4.403843</td>\n",
       "      <td>31.074417</td>\n",
       "    </tr>\n",
       "    <tr>\n",
       "      <th>std</th>\n",
       "      <td>3.075616</td>\n",
       "      <td>0.889489</td>\n",
       "      <td>0.067494</td>\n",
       "      <td>45.064317</td>\n",
       "      <td>0.301477</td>\n",
       "      <td>4.196612</td>\n",
       "      <td>6.497600</td>\n",
       "      <td>9.416626</td>\n",
       "      <td>0.410230</td>\n",
       "      <td>0.265224</td>\n",
       "      <td>4.438279</td>\n",
       "    </tr>\n",
       "    <tr>\n",
       "      <th>min</th>\n",
       "      <td>2009.000000</td>\n",
       "      <td>18.000000</td>\n",
       "      <td>1.651000</td>\n",
       "      <td>148.687579</td>\n",
       "      <td>4.220000</td>\n",
       "      <td>17.468850</td>\n",
       "      <td>2.000000</td>\n",
       "      <td>77.861160</td>\n",
       "      <td>6.280000</td>\n",
       "      <td>3.810000</td>\n",
       "      <td>21.609798</td>\n",
       "    </tr>\n",
       "    <tr>\n",
       "      <th>25%</th>\n",
       "      <td>2011.000000</td>\n",
       "      <td>21.000000</td>\n",
       "      <td>1.828800</td>\n",
       "      <td>204.570159</td>\n",
       "      <td>4.530000</td>\n",
       "      <td>29.946600</td>\n",
       "      <td>15.000000</td>\n",
       "      <td>108.805980</td>\n",
       "      <td>6.940000</td>\n",
       "      <td>4.200000</td>\n",
       "      <td>27.475641</td>\n",
       "    </tr>\n",
       "    <tr>\n",
       "      <th>50%</th>\n",
       "      <td>2014.000000</td>\n",
       "      <td>22.000000</td>\n",
       "      <td>1.879600</td>\n",
       "      <td>230.515643</td>\n",
       "      <td>4.690000</td>\n",
       "      <td>32.941260</td>\n",
       "      <td>20.000000</td>\n",
       "      <td>115.793520</td>\n",
       "      <td>7.140000</td>\n",
       "      <td>4.360000</td>\n",
       "      <td>30.122626</td>\n",
       "    </tr>\n",
       "    <tr>\n",
       "      <th>75%</th>\n",
       "      <td>2016.000000</td>\n",
       "      <td>22.000000</td>\n",
       "      <td>1.930400</td>\n",
       "      <td>276.419190</td>\n",
       "      <td>4.960000</td>\n",
       "      <td>35.436810</td>\n",
       "      <td>25.000000</td>\n",
       "      <td>120.784620</td>\n",
       "      <td>7.490000</td>\n",
       "      <td>4.560000</td>\n",
       "      <td>34.038647</td>\n",
       "    </tr>\n",
       "    <tr>\n",
       "      <th>max</th>\n",
       "      <td>2019.000000</td>\n",
       "      <td>28.000000</td>\n",
       "      <td>2.082800</td>\n",
       "      <td>368.226286</td>\n",
       "      <td>6.000000</td>\n",
       "      <td>44.919900</td>\n",
       "      <td>49.000000</td>\n",
       "      <td>146.738340</td>\n",
       "      <td>9.040000</td>\n",
       "      <td>5.560000</td>\n",
       "      <td>44.680097</td>\n",
       "    </tr>\n",
       "  </tbody>\n",
       "</table>\n",
       "</div>"
      ],
      "text/plain": [
       "              Year          Age       Height       Weight         40yd  \\\n",
       "count  3477.000000  3477.000000  3477.000000  3477.000000  3303.000000   \n",
       "mean   2013.823699    21.983259     1.873968   241.442066     4.769080   \n",
       "std       3.075616     0.889489     0.067494    45.064317     0.301477   \n",
       "min    2009.000000    18.000000     1.651000   148.687579     4.220000   \n",
       "25%    2011.000000    21.000000     1.828800   204.570159     4.530000   \n",
       "50%    2014.000000    22.000000     1.879600   230.515643     4.690000   \n",
       "75%    2016.000000    22.000000     1.930400   276.419190     4.960000   \n",
       "max    2019.000000    28.000000     2.082800   368.226286     6.000000   \n",
       "\n",
       "       Vertical_Jump        Bench   Broad_Jump  Agility_3cone      Shuttle  \\\n",
       "count    2780.000000  2572.000000  2749.000000    2260.000000  2337.000000   \n",
       "mean       32.773214    20.241058   114.610471       7.237416     4.403843   \n",
       "std         4.196612     6.497600     9.416626       0.410230     0.265224   \n",
       "min        17.468850     2.000000    77.861160       6.280000     3.810000   \n",
       "25%        29.946600    15.000000   108.805980       6.940000     4.200000   \n",
       "50%        32.941260    20.000000   115.793520       7.140000     4.360000   \n",
       "75%        35.436810    25.000000   120.784620       7.490000     4.560000   \n",
       "max        44.919900    49.000000   146.738340       9.040000     5.560000   \n",
       "\n",
       "               BMI  \n",
       "count  3477.000000  \n",
       "mean     31.074417  \n",
       "std       4.438279  \n",
       "min      21.609798  \n",
       "25%      27.475641  \n",
       "50%      30.122626  \n",
       "75%      34.038647  \n",
       "max      44.680097  "
      ]
     },
     "execution_count": 10,
     "metadata": {},
     "output_type": "execute_result"
    }
   ],
   "source": [
    "df.describe() #Stats"
   ]
  },
  {
   "cell_type": "markdown",
   "id": "966677e8",
   "metadata": {},
   "source": [
    "## Group and find draft percentage"
   ]
  },
  {
   "cell_type": "code",
   "execution_count": 11,
   "id": "7c98de5c",
   "metadata": {},
   "outputs": [],
   "source": [
    "#Group data by defined col and find the Draft Percentage for the groups\n",
    "def group_me(data,col1):\n",
    "    player_count = data.groupby(col1).count() #Total players from each School\n",
    "    draft_count = data[data.Drafted == 'Yes'].groupby(col1).count() #Total Players Drafted from each School\n",
    "    percentage_drafted_school = draft_count.Drafted/player_count.Player #Percentage of players that get Drafted from each school\n",
    "    percentage_drafted_school.replace(np.nan,0, inplace= True) #Nan = 0 Percent\n",
    "    player_count['Draft Percentage']= percentage_drafted_school #Add School Draft Percentage As Column\n",
    "    player_count.rename(columns = {'Player':'Number of Players'}, inplace = True)\n",
    "    new_name = player_count[['Number of Players', 'Draft Percentage']]\n",
    "    return new_name"
   ]
  },
  {
   "cell_type": "markdown",
   "id": "d9b706aa",
   "metadata": {},
   "source": [
    "## School Sucess"
   ]
  },
  {
   "cell_type": "code",
   "execution_count": 55,
   "id": "ed2ddcf5",
   "metadata": {},
   "outputs": [
    {
     "data": {
      "text/html": [
       "<div>\n",
       "<style scoped>\n",
       "    .dataframe tbody tr th:only-of-type {\n",
       "        vertical-align: middle;\n",
       "    }\n",
       "\n",
       "    .dataframe tbody tr th {\n",
       "        vertical-align: top;\n",
       "    }\n",
       "\n",
       "    .dataframe thead th {\n",
       "        text-align: right;\n",
       "    }\n",
       "</style>\n",
       "<table border=\"1\" class=\"dataframe\">\n",
       "  <thead>\n",
       "    <tr style=\"text-align: right;\">\n",
       "      <th></th>\n",
       "      <th>Number of Players</th>\n",
       "      <th>Draft Percentage</th>\n",
       "    </tr>\n",
       "    <tr>\n",
       "      <th>School</th>\n",
       "      <th></th>\n",
       "      <th></th>\n",
       "    </tr>\n",
       "  </thead>\n",
       "  <tbody>\n",
       "    <tr>\n",
       "      <th>Abilene Christian</th>\n",
       "      <td>3</td>\n",
       "      <td>1.000000</td>\n",
       "    </tr>\n",
       "    <tr>\n",
       "      <th>Air Force</th>\n",
       "      <td>1</td>\n",
       "      <td>0.000000</td>\n",
       "    </tr>\n",
       "    <tr>\n",
       "      <th>Akron</th>\n",
       "      <td>2</td>\n",
       "      <td>0.500000</td>\n",
       "    </tr>\n",
       "    <tr>\n",
       "      <th>Ala-Birmingham</th>\n",
       "      <td>2</td>\n",
       "      <td>1.000000</td>\n",
       "    </tr>\n",
       "    <tr>\n",
       "      <th>Alabama</th>\n",
       "      <td>101</td>\n",
       "      <td>0.752475</td>\n",
       "    </tr>\n",
       "    <tr>\n",
       "      <th>...</th>\n",
       "      <td>...</td>\n",
       "      <td>...</td>\n",
       "    </tr>\n",
       "    <tr>\n",
       "      <th>William &amp; Mary</th>\n",
       "      <td>5</td>\n",
       "      <td>0.800000</td>\n",
       "    </tr>\n",
       "    <tr>\n",
       "      <th>Wisconsin</th>\n",
       "      <td>51</td>\n",
       "      <td>0.666667</td>\n",
       "    </tr>\n",
       "    <tr>\n",
       "      <th>Wyoming</th>\n",
       "      <td>7</td>\n",
       "      <td>0.857143</td>\n",
       "    </tr>\n",
       "    <tr>\n",
       "      <th>Yale</th>\n",
       "      <td>2</td>\n",
       "      <td>0.000000</td>\n",
       "    </tr>\n",
       "    <tr>\n",
       "      <th>Youngstown St.</th>\n",
       "      <td>4</td>\n",
       "      <td>0.500000</td>\n",
       "    </tr>\n",
       "  </tbody>\n",
       "</table>\n",
       "<p>253 rows × 2 columns</p>\n",
       "</div>"
      ],
      "text/plain": [
       "                   Number of Players  Draft Percentage\n",
       "School                                                \n",
       "Abilene Christian                  3          1.000000\n",
       "Air Force                          1          0.000000\n",
       "Akron                              2          0.500000\n",
       "Ala-Birmingham                     2          1.000000\n",
       "Alabama                          101          0.752475\n",
       "...                              ...               ...\n",
       "William & Mary                     5          0.800000\n",
       "Wisconsin                         51          0.666667\n",
       "Wyoming                            7          0.857143\n",
       "Yale                               2          0.000000\n",
       "Youngstown St.                     4          0.500000\n",
       "\n",
       "[253 rows x 2 columns]"
      ]
     },
     "execution_count": 55,
     "metadata": {},
     "output_type": "execute_result"
    }
   ],
   "source": [
    "school_sucess = group_me(df,'School')"
   ]
  },
  {
   "cell_type": "code",
   "execution_count": 53,
   "id": "8a329cec",
   "metadata": {
    "scrolled": false
   },
   "outputs": [],
   "source": [
    "school_sucess= sorted_school.sort_values('Number of Players',ascending=False)[0:25]"
   ]
  },
  {
   "cell_type": "markdown",
   "id": "0454fd16",
   "metadata": {},
   "source": [
    "# Top 25 successful schools with over 45 players"
   ]
  },
  {
   "cell_type": "code",
   "execution_count": 54,
   "id": "a6ec8d2f",
   "metadata": {},
   "outputs": [
    {
     "name": "stderr",
     "output_type": "stream",
     "text": [
      "C:\\Users\\David D\\AppData\\Local\\Temp\\ipykernel_25128\\141106253.py:4: UserWarning: FixedFormatter should only be used together with FixedLocator\n",
      "  ax.set_xticklabels(sorted_school.index, rotation = 60, horizontalalignment = 'right', fontsize = '12')\n"
     ]
    },
    {
     "data": {
      "image/png": "[encoded data removed]",
      "text/plain": [
       "<Figure size 432x288 with 1 Axes>"
      ]
     },
     "metadata": {
      "needs_background": "light"
     },
     "output_type": "display_data"
    }
   ],
   "source": [
    "fig, ax = plt.subplots()\n",
    "sorted_school = school_sucess.sort_values('Draft Percentage', ascending = False)\n",
    "ax.barh(sorted_school.index, sorted_school['Draft Percentage'])\n",
    "ax.set_xticklabels(sorted_school.index, rotation = 60, horizontalalignment = 'right', fontsize = '12')\n",
    "\n",
    "ax.set_title('Percentage of Drafted Players by School', fontsize = 22)\n",
    "ax.set_ylabel('Percentage')\n",
    "plt.show()"
   ]
  },
  {
   "cell_type": "markdown",
   "id": "421e7190",
   "metadata": {},
   "source": [
    "## Position Sucess "
   ]
  },
  {
   "cell_type": "code",
   "execution_count": null,
   "id": "b78efb87",
   "metadata": {},
   "outputs": [],
   "source": [
    "position_sucess = group_me(df,'Position')"
   ]
  },
  {
   "cell_type": "code",
   "execution_count": null,
   "id": "de338bf4",
   "metadata": {
    "scrolled": true
   },
   "outputs": [],
   "source": [
    "position_sucess"
   ]
  },
  {
   "cell_type": "markdown",
   "id": "2110b064",
   "metadata": {},
   "source": [
    "## Position Sucess by School"
   ]
  },
  {
   "cell_type": "code",
   "execution_count": 57,
   "id": "3e10a1d9",
   "metadata": {
    "scrolled": true
   },
   "outputs": [
    {
     "data": {
      "text/html": [
       "<div>\n",
       "<style scoped>\n",
       "    .dataframe tbody tr th:only-of-type {\n",
       "        vertical-align: middle;\n",
       "    }\n",
       "\n",
       "    .dataframe tbody tr th {\n",
       "        vertical-align: top;\n",
       "    }\n",
       "\n",
       "    .dataframe thead th {\n",
       "        text-align: right;\n",
       "    }\n",
       "</style>\n",
       "<table border=\"1\" class=\"dataframe\">\n",
       "  <thead>\n",
       "    <tr style=\"text-align: right;\">\n",
       "      <th></th>\n",
       "      <th></th>\n",
       "      <th>Number of Players</th>\n",
       "      <th>Draft Percentage</th>\n",
       "    </tr>\n",
       "    <tr>\n",
       "      <th>School</th>\n",
       "      <th>Position</th>\n",
       "      <th></th>\n",
       "      <th></th>\n",
       "    </tr>\n",
       "  </thead>\n",
       "  <tbody>\n",
       "    <tr>\n",
       "      <th rowspan=\"2\" valign=\"top\">Abilene Christian</th>\n",
       "      <th>RB</th>\n",
       "      <td>1</td>\n",
       "      <td>1.0</td>\n",
       "    </tr>\n",
       "    <tr>\n",
       "      <th>WR</th>\n",
       "      <td>2</td>\n",
       "      <td>1.0</td>\n",
       "    </tr>\n",
       "    <tr>\n",
       "      <th>Air Force</th>\n",
       "      <th>WR</th>\n",
       "      <td>1</td>\n",
       "      <td>0.0</td>\n",
       "    </tr>\n",
       "    <tr>\n",
       "      <th rowspan=\"2\" valign=\"top\">Akron</th>\n",
       "      <th>DT</th>\n",
       "      <td>1</td>\n",
       "      <td>1.0</td>\n",
       "    </tr>\n",
       "    <tr>\n",
       "      <th>WR</th>\n",
       "      <td>1</td>\n",
       "      <td>0.0</td>\n",
       "    </tr>\n",
       "    <tr>\n",
       "      <th>...</th>\n",
       "      <th>...</th>\n",
       "      <td>...</td>\n",
       "      <td>...</td>\n",
       "    </tr>\n",
       "    <tr>\n",
       "      <th rowspan=\"2\" valign=\"top\">Yale</th>\n",
       "      <th>FB</th>\n",
       "      <td>1</td>\n",
       "      <td>0.0</td>\n",
       "    </tr>\n",
       "    <tr>\n",
       "      <th>QB</th>\n",
       "      <td>1</td>\n",
       "      <td>0.0</td>\n",
       "    </tr>\n",
       "    <tr>\n",
       "      <th rowspan=\"3\" valign=\"top\">Youngstown St.</th>\n",
       "      <th>DE</th>\n",
       "      <td>2</td>\n",
       "      <td>1.0</td>\n",
       "    </tr>\n",
       "    <tr>\n",
       "      <th>OG</th>\n",
       "      <td>1</td>\n",
       "      <td>0.0</td>\n",
       "    </tr>\n",
       "    <tr>\n",
       "      <th>WR</th>\n",
       "      <td>1</td>\n",
       "      <td>0.0</td>\n",
       "    </tr>\n",
       "  </tbody>\n",
       "</table>\n",
       "<p>1437 rows × 2 columns</p>\n",
       "</div>"
      ],
      "text/plain": [
       "                            Number of Players  Draft Percentage\n",
       "School            Position                                     \n",
       "Abilene Christian RB                        1               1.0\n",
       "                  WR                        2               1.0\n",
       "Air Force         WR                        1               0.0\n",
       "Akron             DT                        1               1.0\n",
       "                  WR                        1               0.0\n",
       "...                                       ...               ...\n",
       "Yale              FB                        1               0.0\n",
       "                  QB                        1               0.0\n",
       "Youngstown St.    DE                        2               1.0\n",
       "                  OG                        1               0.0\n",
       "                  WR                        1               0.0\n",
       "\n",
       "[1437 rows x 2 columns]"
      ]
     },
     "execution_count": 57,
     "metadata": {},
     "output_type": "execute_result"
    }
   ],
   "source": [
    "position_sucess = group_me(df,['School', 'Position'])\n",
    "position_sucess"
   ]
  },
  {
   "cell_type": "code",
   "execution_count": 58,
   "id": "70d15a2e",
   "metadata": {},
   "outputs": [],
   "source": [
    "y_m = df.groupby('Position').describe()['40yd'].sort_values(by = 'mean')['mean'] #STATS ON 40YD BY POSITION"
   ]
  },
  {
   "cell_type": "code",
   "execution_count": 59,
   "id": "8c005083",
   "metadata": {},
   "outputs": [
    {
     "data": {
      "text/plain": [
       "array(['RB', 'DE', 'OG', 'S', 'OLB', 'DT', 'OT', 'CB', 'TE', 'ILB', 'C',\n",
       "       'FB', 'WR', 'P', 'K', 'QB', 'LS'], dtype=object)"
      ]
     },
     "execution_count": 59,
     "metadata": {},
     "output_type": "execute_result"
    }
   ],
   "source": [
    "df.Position.unique()"
   ]
  },
  {
   "cell_type": "markdown",
   "id": "7c643af7",
   "metadata": {},
   "source": [
    "## Boxplot for each event"
   ]
  },
  {
   "cell_type": "markdown",
   "id": "f6d83a23",
   "metadata": {},
   "source": [
    "### 40 Yard Dash"
   ]
  },
  {
   "cell_type": "code",
   "execution_count": 61,
   "id": "c510d077",
   "metadata": {
    "scrolled": false
   },
   "outputs": [
    {
     "data": {
      "text/plain": [
       "<AxesSubplot:xlabel='Position', ylabel='40yd'>"
      ]
     },
     "execution_count": 61,
     "metadata": {},
     "output_type": "execute_result"
    },
    {
     "data": {
      "image/png": "[encoded data removed]",
      "text/plain": [
       "<Figure size 432x288 with 1 Axes>"
      ]
     },
     "metadata": {
      "needs_background": "light"
     },
     "output_type": "display_data"
    }
   ],
   "source": [
    "sns.boxplot(x=df.Position, y= df['40yd'])"
   ]
  },
  {
   "cell_type": "markdown",
   "id": "93a5651e",
   "metadata": {},
   "source": [
    "### Bench Press"
   ]
  },
  {
   "cell_type": "code",
   "execution_count": 15,
   "id": "20e92bae",
   "metadata": {
    "scrolled": true
   },
   "outputs": [
    {
     "data": {
      "text/plain": [
       "<AxesSubplot:xlabel='Position', ylabel='Bench'>"
      ]
     },
     "execution_count": 15,
     "metadata": {},
     "output_type": "execute_result"
    },
    {
     "data": {
      "image/png": "[encoded data removed]",
      "text/plain": [
       "<Figure size 432x288 with 1 Axes>"
      ]
     },
     "metadata": {
      "needs_background": "light"
     },
     "output_type": "display_data"
    }
   ],
   "source": [
    "sns.boxplot(x=df.Position, y= df['Bench'])\n"
   ]
  },
  {
   "cell_type": "markdown",
   "id": "e614ebfa",
   "metadata": {},
   "source": [
    "### Vertical Jump"
   ]
  },
  {
   "cell_type": "code",
   "execution_count": 16,
   "id": "9a43d34c",
   "metadata": {},
   "outputs": [
    {
     "data": {
      "text/plain": [
       "<AxesSubplot:xlabel='Position', ylabel='Vertical_Jump'>"
      ]
     },
     "execution_count": 16,
     "metadata": {},
     "output_type": "execute_result"
    },
    {
     "data": {
      "image/png": "[encoded data removed]",
      "text/plain": [
       "<Figure size 432x288 with 1 Axes>"
      ]
     },
     "metadata": {
      "needs_background": "light"
     },
     "output_type": "display_data"
    }
   ],
   "source": [
    "sns.boxplot(x=df.Position, y= df['Vertical_Jump'])"
   ]
  },
  {
   "cell_type": "markdown",
   "id": "e46aedea",
   "metadata": {},
   "source": [
    "### Broad Jump"
   ]
  },
  {
   "cell_type": "code",
   "execution_count": 17,
   "id": "97b14d93",
   "metadata": {},
   "outputs": [
    {
     "data": {
      "text/plain": [
       "<AxesSubplot:xlabel='Position', ylabel='Broad_Jump'>"
      ]
     },
     "execution_count": 17,
     "metadata": {},
     "output_type": "execute_result"
    },
    {
     "data": {
      "image/png": "[encoded data removed]",
      "text/plain": [
       "<Figure size 432x288 with 1 Axes>"
      ]
     },
     "metadata": {
      "needs_background": "light"
     },
     "output_type": "display_data"
    }
   ],
   "source": [
    "sns.boxplot(x=df.Position, y= df['Broad_Jump'])"
   ]
  },
  {
   "cell_type": "markdown",
   "id": "9bc2a58e",
   "metadata": {},
   "source": [
    "### 3 Cone Drill"
   ]
  },
  {
   "cell_type": "code",
   "execution_count": 62,
   "id": "805d6e17",
   "metadata": {},
   "outputs": [
    {
     "data": {
      "text/plain": [
       "<AxesSubplot:xlabel='Position', ylabel='Agility_3cone'>"
      ]
     },
     "execution_count": 62,
     "metadata": {},
     "output_type": "execute_result"
    },
    {
     "data": {
      "image/png": "[encoded data removed]",
      "text/plain": [
       "<Figure size 432x288 with 1 Axes>"
      ]
     },
     "metadata": {
      "needs_background": "light"
     },
     "output_type": "display_data"
    }
   ],
   "source": [
    "sns.boxplot(x=df.Position, y= df['Agility_3cone'])"
   ]
  },
  {
   "cell_type": "markdown",
   "id": "4ab2a6db",
   "metadata": {},
   "source": [
    "### Shuttle"
   ]
  },
  {
   "cell_type": "code",
   "execution_count": 19,
   "id": "073f28e4",
   "metadata": {
    "scrolled": true
   },
   "outputs": [
    {
     "data": {
      "text/plain": [
       "<AxesSubplot:xlabel='Position', ylabel='Shuttle'>"
      ]
     },
     "execution_count": 19,
     "metadata": {},
     "output_type": "execute_result"
    },
    {
     "data": {
      "image/png": "[encoded data removed]",
      "text/plain": [
       "<Figure size 432x288 with 1 Axes>"
      ]
     },
     "metadata": {
      "needs_background": "light"
     },
     "output_type": "display_data"
    }
   ],
   "source": [
    "sns.boxplot(x=df.Position, y= df['Shuttle'])"
   ]
  },
  {
   "cell_type": "markdown",
   "id": "dee7b57d",
   "metadata": {},
   "source": [
    "## Split data into positions for model"
   ]
  },
  {
   "cell_type": "code",
   "execution_count": 20,
   "id": "5e7f75b1",
   "metadata": {
    "scrolled": true
   },
   "outputs": [
    {
     "data": {
      "text/html": [
       "<div>\n",
       "<style scoped>\n",
       "    .dataframe tbody tr th:only-of-type {\n",
       "        vertical-align: middle;\n",
       "    }\n",
       "\n",
       "    .dataframe tbody tr th {\n",
       "        vertical-align: top;\n",
       "    }\n",
       "\n",
       "    .dataframe thead th {\n",
       "        text-align: right;\n",
       "    }\n",
       "</style>\n",
       "<table border=\"1\" class=\"dataframe\">\n",
       "  <thead>\n",
       "    <tr style=\"text-align: right;\">\n",
       "      <th></th>\n",
       "      <th></th>\n",
       "      <th>Year</th>\n",
       "      <th>Player</th>\n",
       "      <th>Age</th>\n",
       "      <th>Height</th>\n",
       "      <th>Weight</th>\n",
       "      <th>40yd</th>\n",
       "      <th>Vertical_Jump</th>\n",
       "      <th>Bench</th>\n",
       "      <th>Broad_Jump</th>\n",
       "      <th>Agility_3cone</th>\n",
       "      <th>Shuttle</th>\n",
       "      <th>Round</th>\n",
       "      <th>BMI</th>\n",
       "      <th>Player_Type</th>\n",
       "      <th>Position_Type</th>\n",
       "      <th>Drafted</th>\n",
       "      <th>Height_ft</th>\n",
       "    </tr>\n",
       "    <tr>\n",
       "      <th>School</th>\n",
       "      <th>Position</th>\n",
       "      <th></th>\n",
       "      <th></th>\n",
       "      <th></th>\n",
       "      <th></th>\n",
       "      <th></th>\n",
       "      <th></th>\n",
       "      <th></th>\n",
       "      <th></th>\n",
       "      <th></th>\n",
       "      <th></th>\n",
       "      <th></th>\n",
       "      <th></th>\n",
       "      <th></th>\n",
       "      <th></th>\n",
       "      <th></th>\n",
       "      <th></th>\n",
       "      <th></th>\n",
       "    </tr>\n",
       "  </thead>\n",
       "  <tbody>\n",
       "    <tr>\n",
       "      <th rowspan=\"2\" valign=\"top\">Abilene Christian</th>\n",
       "      <th>RB</th>\n",
       "      <td>1</td>\n",
       "      <td>1</td>\n",
       "      <td>1</td>\n",
       "      <td>1</td>\n",
       "      <td>1</td>\n",
       "      <td>1</td>\n",
       "      <td>1</td>\n",
       "      <td>1</td>\n",
       "      <td>1</td>\n",
       "      <td>1</td>\n",
       "      <td>1</td>\n",
       "      <td>1</td>\n",
       "      <td>1</td>\n",
       "      <td>1</td>\n",
       "      <td>1</td>\n",
       "      <td>1</td>\n",
       "      <td>1</td>\n",
       "    </tr>\n",
       "    <tr>\n",
       "      <th>WR</th>\n",
       "      <td>2</td>\n",
       "      <td>2</td>\n",
       "      <td>2</td>\n",
       "      <td>2</td>\n",
       "      <td>2</td>\n",
       "      <td>2</td>\n",
       "      <td>2</td>\n",
       "      <td>1</td>\n",
       "      <td>2</td>\n",
       "      <td>1</td>\n",
       "      <td>1</td>\n",
       "      <td>2</td>\n",
       "      <td>2</td>\n",
       "      <td>2</td>\n",
       "      <td>2</td>\n",
       "      <td>2</td>\n",
       "      <td>2</td>\n",
       "    </tr>\n",
       "    <tr>\n",
       "      <th>Air Force</th>\n",
       "      <th>WR</th>\n",
       "      <td>1</td>\n",
       "      <td>1</td>\n",
       "      <td>1</td>\n",
       "      <td>1</td>\n",
       "      <td>1</td>\n",
       "      <td>1</td>\n",
       "      <td>1</td>\n",
       "      <td>1</td>\n",
       "      <td>1</td>\n",
       "      <td>1</td>\n",
       "      <td>1</td>\n",
       "      <td>0</td>\n",
       "      <td>1</td>\n",
       "      <td>1</td>\n",
       "      <td>1</td>\n",
       "      <td>1</td>\n",
       "      <td>1</td>\n",
       "    </tr>\n",
       "    <tr>\n",
       "      <th rowspan=\"2\" valign=\"top\">Akron</th>\n",
       "      <th>DT</th>\n",
       "      <td>1</td>\n",
       "      <td>1</td>\n",
       "      <td>1</td>\n",
       "      <td>1</td>\n",
       "      <td>1</td>\n",
       "      <td>1</td>\n",
       "      <td>1</td>\n",
       "      <td>1</td>\n",
       "      <td>1</td>\n",
       "      <td>1</td>\n",
       "      <td>1</td>\n",
       "      <td>1</td>\n",
       "      <td>1</td>\n",
       "      <td>1</td>\n",
       "      <td>1</td>\n",
       "      <td>1</td>\n",
       "      <td>1</td>\n",
       "    </tr>\n",
       "    <tr>\n",
       "      <th>WR</th>\n",
       "      <td>1</td>\n",
       "      <td>1</td>\n",
       "      <td>1</td>\n",
       "      <td>1</td>\n",
       "      <td>1</td>\n",
       "      <td>1</td>\n",
       "      <td>1</td>\n",
       "      <td>1</td>\n",
       "      <td>1</td>\n",
       "      <td>1</td>\n",
       "      <td>1</td>\n",
       "      <td>0</td>\n",
       "      <td>1</td>\n",
       "      <td>1</td>\n",
       "      <td>1</td>\n",
       "      <td>1</td>\n",
       "      <td>1</td>\n",
       "    </tr>\n",
       "  </tbody>\n",
       "</table>\n",
       "</div>"
      ],
      "text/plain": [
       "                            Year  Player  Age  Height  Weight  40yd  \\\n",
       "School            Position                                            \n",
       "Abilene Christian RB           1       1    1       1       1     1   \n",
       "                  WR           2       2    2       2       2     2   \n",
       "Air Force         WR           1       1    1       1       1     1   \n",
       "Akron             DT           1       1    1       1       1     1   \n",
       "                  WR           1       1    1       1       1     1   \n",
       "\n",
       "                            Vertical_Jump  Bench  Broad_Jump  Agility_3cone  \\\n",
       "School            Position                                                    \n",
       "Abilene Christian RB                    1      1           1              1   \n",
       "                  WR                    2      1           2              1   \n",
       "Air Force         WR                    1      1           1              1   \n",
       "Akron             DT                    1      1           1              1   \n",
       "                  WR                    1      1           1              1   \n",
       "\n",
       "                            Shuttle  Round  BMI  Player_Type  Position_Type  \\\n",
       "School            Position                                                    \n",
       "Abilene Christian RB              1      1    1            1              1   \n",
       "                  WR              1      2    2            2              2   \n",
       "Air Force         WR              1      0    1            1              1   \n",
       "Akron             DT              1      1    1            1              1   \n",
       "                  WR              1      0    1            1              1   \n",
       "\n",
       "                            Drafted  Height_ft  \n",
       "School            Position                      \n",
       "Abilene Christian RB              1          1  \n",
       "                  WR              2          2  \n",
       "Air Force         WR              1          1  \n",
       "Akron             DT              1          1  \n",
       "                  WR              1          1  "
      ]
     },
     "execution_count": 20,
     "metadata": {},
     "output_type": "execute_result"
    }
   ],
   "source": [
    "df.groupby(['School', 'Position']).count().head()"
   ]
  },
  {
   "cell_type": "markdown",
   "id": "a491c02f",
   "metadata": {},
   "source": [
    "### 1-hot encoding Drafted"
   ]
  },
  {
   "cell_type": "code",
   "execution_count": 21,
   "id": "4555c9a7",
   "metadata": {
    "scrolled": true
   },
   "outputs": [
    {
     "data": {
      "text/html": [
       "<div>\n",
       "<style scoped>\n",
       "    .dataframe tbody tr th:only-of-type {\n",
       "        vertical-align: middle;\n",
       "    }\n",
       "\n",
       "    .dataframe tbody tr th {\n",
       "        vertical-align: top;\n",
       "    }\n",
       "\n",
       "    .dataframe thead th {\n",
       "        text-align: right;\n",
       "    }\n",
       "</style>\n",
       "<table border=\"1\" class=\"dataframe\">\n",
       "  <thead>\n",
       "    <tr style=\"text-align: right;\">\n",
       "      <th></th>\n",
       "      <th>Year</th>\n",
       "      <th>Player</th>\n",
       "      <th>Age</th>\n",
       "      <th>School</th>\n",
       "      <th>Height</th>\n",
       "      <th>Weight</th>\n",
       "      <th>40yd</th>\n",
       "      <th>Vertical_Jump</th>\n",
       "      <th>Bench</th>\n",
       "      <th>Broad_Jump</th>\n",
       "      <th>Agility_3cone</th>\n",
       "      <th>Shuttle</th>\n",
       "      <th>Round</th>\n",
       "      <th>BMI</th>\n",
       "      <th>Player_Type</th>\n",
       "      <th>Position_Type</th>\n",
       "      <th>Position</th>\n",
       "      <th>Height_ft</th>\n",
       "      <th>No</th>\n",
       "      <th>Yes</th>\n",
       "    </tr>\n",
       "  </thead>\n",
       "  <tbody>\n",
       "    <tr>\n",
       "      <th>0</th>\n",
       "      <td>2009</td>\n",
       "      <td>Beanie Wells</td>\n",
       "      <td>20.000000</td>\n",
       "      <td>Ohio St.</td>\n",
       "      <td>1.8542</td>\n",
       "      <td>234.507255</td>\n",
       "      <td>4.38</td>\n",
       "      <td>33.44037</td>\n",
       "      <td>25.0</td>\n",
       "      <td>127.77216</td>\n",
       "      <td>NaN</td>\n",
       "      <td>NaN</td>\n",
       "      <td>1st</td>\n",
       "      <td>31.004194</td>\n",
       "      <td>offense</td>\n",
       "      <td>backs_receivers</td>\n",
       "      <td>RB</td>\n",
       "      <td>6.1</td>\n",
       "      <td>0</td>\n",
       "      <td>1</td>\n",
       "    </tr>\n",
       "    <tr>\n",
       "      <th>1</th>\n",
       "      <td>2009</td>\n",
       "      <td>Will Davis</td>\n",
       "      <td>22.000000</td>\n",
       "      <td>Illinois</td>\n",
       "      <td>1.8796</td>\n",
       "      <td>260.452739</td>\n",
       "      <td>4.84</td>\n",
       "      <td>32.94126</td>\n",
       "      <td>27.0</td>\n",
       "      <td>114.79530</td>\n",
       "      <td>7.38</td>\n",
       "      <td>4.45</td>\n",
       "      <td>6th</td>\n",
       "      <td>33.510073</td>\n",
       "      <td>defense</td>\n",
       "      <td>defensive_lineman</td>\n",
       "      <td>DE</td>\n",
       "      <td>6.2</td>\n",
       "      <td>0</td>\n",
       "      <td>1</td>\n",
       "    </tr>\n",
       "    <tr>\n",
       "      <th>2</th>\n",
       "      <td>2009</td>\n",
       "      <td>Herman Johnson</td>\n",
       "      <td>24.000000</td>\n",
       "      <td>LSU</td>\n",
       "      <td>2.0066</td>\n",
       "      <td>363.236770</td>\n",
       "      <td>5.50</td>\n",
       "      <td>NaN</td>\n",
       "      <td>21.0</td>\n",
       "      <td>NaN</td>\n",
       "      <td>NaN</td>\n",
       "      <td>NaN</td>\n",
       "      <td>5th</td>\n",
       "      <td>41.005821</td>\n",
       "      <td>offense</td>\n",
       "      <td>offensive_lineman</td>\n",
       "      <td>OG</td>\n",
       "      <td>6.7</td>\n",
       "      <td>0</td>\n",
       "      <td>1</td>\n",
       "    </tr>\n",
       "    <tr>\n",
       "      <th>3</th>\n",
       "      <td>2009</td>\n",
       "      <td>Rashad Johnson</td>\n",
       "      <td>23.000000</td>\n",
       "      <td>Alabama</td>\n",
       "      <td>1.8034</td>\n",
       "      <td>202.574352</td>\n",
       "      <td>4.49</td>\n",
       "      <td>36.93414</td>\n",
       "      <td>15.0</td>\n",
       "      <td>119.78640</td>\n",
       "      <td>7.09</td>\n",
       "      <td>4.23</td>\n",
       "      <td>3rd</td>\n",
       "      <td>28.312463</td>\n",
       "      <td>defense</td>\n",
       "      <td>defensive_back</td>\n",
       "      <td>S</td>\n",
       "      <td>5.11</td>\n",
       "      <td>0</td>\n",
       "      <td>1</td>\n",
       "    </tr>\n",
       "    <tr>\n",
       "      <th>4</th>\n",
       "      <td>2009</td>\n",
       "      <td>Cody Brown</td>\n",
       "      <td>22.000000</td>\n",
       "      <td>Connecticut</td>\n",
       "      <td>1.8796</td>\n",
       "      <td>243.488384</td>\n",
       "      <td>4.76</td>\n",
       "      <td>36.43503</td>\n",
       "      <td>26.0</td>\n",
       "      <td>119.78640</td>\n",
       "      <td>7.10</td>\n",
       "      <td>4.40</td>\n",
       "      <td>2nd</td>\n",
       "      <td>31.327425</td>\n",
       "      <td>defense</td>\n",
       "      <td>line_backer</td>\n",
       "      <td>OLB</td>\n",
       "      <td>6.2</td>\n",
       "      <td>0</td>\n",
       "      <td>1</td>\n",
       "    </tr>\n",
       "    <tr>\n",
       "      <th>...</th>\n",
       "      <td>...</td>\n",
       "      <td>...</td>\n",
       "      <td>...</td>\n",
       "      <td>...</td>\n",
       "      <td>...</td>\n",
       "      <td>...</td>\n",
       "      <td>...</td>\n",
       "      <td>...</td>\n",
       "      <td>...</td>\n",
       "      <td>...</td>\n",
       "      <td>...</td>\n",
       "      <td>...</td>\n",
       "      <td>...</td>\n",
       "      <td>...</td>\n",
       "      <td>...</td>\n",
       "      <td>...</td>\n",
       "      <td>...</td>\n",
       "      <td>...</td>\n",
       "      <td>...</td>\n",
       "      <td>...</td>\n",
       "    </tr>\n",
       "    <tr>\n",
       "      <th>3472</th>\n",
       "      <td>2019</td>\n",
       "      <td>Xavier Crawford</td>\n",
       "      <td>21.983259</td>\n",
       "      <td>Central Michigan</td>\n",
       "      <td>1.8034</td>\n",
       "      <td>186.607901</td>\n",
       "      <td>4.48</td>\n",
       "      <td>37.43325</td>\n",
       "      <td>11.0</td>\n",
       "      <td>NaN</td>\n",
       "      <td>NaN</td>\n",
       "      <td>NaN</td>\n",
       "      <td>NaN</td>\n",
       "      <td>26.080939</td>\n",
       "      <td>defense</td>\n",
       "      <td>defensive_back</td>\n",
       "      <td>CB</td>\n",
       "      <td>5.11</td>\n",
       "      <td>1</td>\n",
       "      <td>0</td>\n",
       "    </tr>\n",
       "    <tr>\n",
       "      <th>3473</th>\n",
       "      <td>2019</td>\n",
       "      <td>Jordan Brown</td>\n",
       "      <td>21.983259</td>\n",
       "      <td>South Dakota St.</td>\n",
       "      <td>1.8288</td>\n",
       "      <td>200.578546</td>\n",
       "      <td>4.51</td>\n",
       "      <td>39.42969</td>\n",
       "      <td>13.0</td>\n",
       "      <td>127.77216</td>\n",
       "      <td>NaN</td>\n",
       "      <td>NaN</td>\n",
       "      <td>NaN</td>\n",
       "      <td>27.260221</td>\n",
       "      <td>defense</td>\n",
       "      <td>defensive_back</td>\n",
       "      <td>CB</td>\n",
       "      <td>6.0</td>\n",
       "      <td>1</td>\n",
       "      <td>0</td>\n",
       "    </tr>\n",
       "    <tr>\n",
       "      <th>3474</th>\n",
       "      <td>2019</td>\n",
       "      <td>Corey Ballentine</td>\n",
       "      <td>21.983259</td>\n",
       "      <td>Washburn</td>\n",
       "      <td>1.8034</td>\n",
       "      <td>195.589030</td>\n",
       "      <td>4.47</td>\n",
       "      <td>39.42969</td>\n",
       "      <td>15.0</td>\n",
       "      <td>134.75970</td>\n",
       "      <td>6.82</td>\n",
       "      <td>4.14</td>\n",
       "      <td>NaN</td>\n",
       "      <td>27.336171</td>\n",
       "      <td>defense</td>\n",
       "      <td>defensive_back</td>\n",
       "      <td>CB</td>\n",
       "      <td>5.11</td>\n",
       "      <td>1</td>\n",
       "      <td>0</td>\n",
       "    </tr>\n",
       "    <tr>\n",
       "      <th>3475</th>\n",
       "      <td>2019</td>\n",
       "      <td>Ugo Amadi</td>\n",
       "      <td>21.983259</td>\n",
       "      <td>Oregon</td>\n",
       "      <td>1.7526</td>\n",
       "      <td>198.582740</td>\n",
       "      <td>4.51</td>\n",
       "      <td>32.44215</td>\n",
       "      <td>18.0</td>\n",
       "      <td>114.79530</td>\n",
       "      <td>7.21</td>\n",
       "      <td>4.19</td>\n",
       "      <td>NaN</td>\n",
       "      <td>29.386861</td>\n",
       "      <td>defense</td>\n",
       "      <td>defensive_back</td>\n",
       "      <td>S</td>\n",
       "      <td>5.9</td>\n",
       "      <td>1</td>\n",
       "      <td>0</td>\n",
       "    </tr>\n",
       "    <tr>\n",
       "      <th>3476</th>\n",
       "      <td>2019</td>\n",
       "      <td>Nasir Adderley</td>\n",
       "      <td>21.983259</td>\n",
       "      <td>Delaware</td>\n",
       "      <td>1.8288</td>\n",
       "      <td>205.568062</td>\n",
       "      <td>NaN</td>\n",
       "      <td>NaN</td>\n",
       "      <td>NaN</td>\n",
       "      <td>NaN</td>\n",
       "      <td>NaN</td>\n",
       "      <td>NaN</td>\n",
       "      <td>NaN</td>\n",
       "      <td>27.938336</td>\n",
       "      <td>defense</td>\n",
       "      <td>defensive_back</td>\n",
       "      <td>S</td>\n",
       "      <td>6.0</td>\n",
       "      <td>1</td>\n",
       "      <td>0</td>\n",
       "    </tr>\n",
       "  </tbody>\n",
       "</table>\n",
       "<p>3477 rows × 20 columns</p>\n",
       "</div>"
      ],
      "text/plain": [
       "      Year            Player        Age            School  Height      Weight  \\\n",
       "0     2009      Beanie Wells  20.000000          Ohio St.  1.8542  234.507255   \n",
       "1     2009        Will Davis  22.000000          Illinois  1.8796  260.452739   \n",
       "2     2009    Herman Johnson  24.000000               LSU  2.0066  363.236770   \n",
       "3     2009    Rashad Johnson  23.000000           Alabama  1.8034  202.574352   \n",
       "4     2009        Cody Brown  22.000000       Connecticut  1.8796  243.488384   \n",
       "...    ...               ...        ...               ...     ...         ...   \n",
       "3472  2019   Xavier Crawford  21.983259  Central Michigan  1.8034  186.607901   \n",
       "3473  2019      Jordan Brown  21.983259  South Dakota St.  1.8288  200.578546   \n",
       "3474  2019  Corey Ballentine  21.983259          Washburn  1.8034  195.589030   \n",
       "3475  2019         Ugo Amadi  21.983259            Oregon  1.7526  198.582740   \n",
       "3476  2019    Nasir Adderley  21.983259          Delaware  1.8288  205.568062   \n",
       "\n",
       "      40yd  Vertical_Jump  Bench  Broad_Jump  Agility_3cone  Shuttle  Round  \\\n",
       "0     4.38       33.44037   25.0   127.77216            NaN      NaN   1st    \n",
       "1     4.84       32.94126   27.0   114.79530           7.38     4.45   6th    \n",
       "2     5.50            NaN   21.0         NaN            NaN      NaN   5th    \n",
       "3     4.49       36.93414   15.0   119.78640           7.09     4.23   3rd    \n",
       "4     4.76       36.43503   26.0   119.78640           7.10     4.40   2nd    \n",
       "...    ...            ...    ...         ...            ...      ...    ...   \n",
       "3472  4.48       37.43325   11.0         NaN            NaN      NaN    NaN   \n",
       "3473  4.51       39.42969   13.0   127.77216            NaN      NaN    NaN   \n",
       "3474  4.47       39.42969   15.0   134.75970           6.82     4.14    NaN   \n",
       "3475  4.51       32.44215   18.0   114.79530           7.21     4.19    NaN   \n",
       "3476   NaN            NaN    NaN         NaN            NaN      NaN    NaN   \n",
       "\n",
       "            BMI Player_Type      Position_Type Position Height_ft  No  Yes  \n",
       "0     31.004194     offense    backs_receivers       RB       6.1   0    1  \n",
       "1     33.510073     defense  defensive_lineman       DE       6.2   0    1  \n",
       "2     41.005821     offense  offensive_lineman       OG       6.7   0    1  \n",
       "3     28.312463     defense     defensive_back        S      5.11   0    1  \n",
       "4     31.327425     defense        line_backer      OLB       6.2   0    1  \n",
       "...         ...         ...                ...      ...       ...  ..  ...  \n",
       "3472  26.080939     defense     defensive_back       CB      5.11   1    0  \n",
       "3473  27.260221     defense     defensive_back       CB       6.0   1    0  \n",
       "3474  27.336171     defense     defensive_back       CB      5.11   1    0  \n",
       "3475  29.386861     defense     defensive_back        S       5.9   1    0  \n",
       "3476  27.938336     defense     defensive_back        S       6.0   1    0  \n",
       "\n",
       "[3477 rows x 20 columns]"
      ]
     },
     "execution_count": 21,
     "metadata": {},
     "output_type": "execute_result"
    }
   ],
   "source": [
    "#One hot Encoding\n",
    "ohdf = df[:]\n",
    "dummies = pd.get_dummies(ohdf.Drafted)\n",
    "merged = pd.concat([ohdf,dummies], axis = 'columns') \n",
    "merged = merged.drop(['Drafted'], axis ='columns')\n",
    "merged"
   ]
  },
  {
   "cell_type": "markdown",
   "id": "3560bd9f",
   "metadata": {},
   "source": [
    "### Corellation Heat Map "
   ]
  },
  {
   "cell_type": "code",
   "execution_count": 22,
   "id": "3b056ad2",
   "metadata": {
    "scrolled": false
   },
   "outputs": [
    {
     "data": {
      "image/png": "[encoded data removed]",
      "text/plain": [
       "<Figure size 864x720 with 2 Axes>"
      ]
     },
     "metadata": {
      "needs_background": "light"
     },
     "output_type": "display_data"
    }
   ],
   "source": [
    "plt.figure(figsize = (12,10))\n",
    "cor = merged.corr()\n",
    "sns.heatmap(cor, annot=True, cmap =plt.cm.CMRmap_r)\n",
    "plt.show()"
   ]
  },
  {
   "cell_type": "markdown",
   "id": "8d204756",
   "metadata": {},
   "source": [
    "### Highly Correlated stats (-1<x<-0.8 or 0.8<x<1)\n",
    "####    - BMI/Weight (Obvious one)\n",
    "####    - Weight/40yd\n",
    "####    - Weight/Agility Cone\n",
    "####    - Weight/Shuttle\n",
    "####    - 40yd/Broad Jump\n",
    "####    - 40yd/Agility\n",
    "####    - 40yd/Shuttle\n",
    "####    - Vertical Jump/Broad Jump\n",
    "####    - Shuttle/Agility\n",
    "####    - BMI/Agility"
   ]
  },
  {
   "cell_type": "markdown",
   "id": "72acc8d2",
   "metadata": {},
   "source": [
    "### Scatterplot between 40 Yard Dash and Shuttle"
   ]
  },
  {
   "cell_type": "code",
   "execution_count": 23,
   "id": "3e546b3a",
   "metadata": {
    "scrolled": true
   },
   "outputs": [
    {
     "data": {
      "image/png": "[encoded data removed]",
      "text/plain": [
       "<Figure size 432x288 with 1 Axes>"
      ]
     },
     "metadata": {
      "needs_background": "light"
     },
     "output_type": "display_data"
    }
   ],
   "source": [
    "df.plot.scatter(x = '40yd', y = 'Shuttle', s = 100);\n"
   ]
  }
 ],
 "metadata": {
  "kernelspec": {
   "display_name": "Python 3 (ipykernel)",
   "language": "python",
   "name": "python3"
  },
  "language_info": {
   "codemirror_mode": {
    "name": "ipython",
    "version": 3
   },
   "file_extension": ".py",
   "mimetype": "text/x-python",
   "name": "python",
   "nbconvert_exporter": "python",
   "pygments_lexer": "ipython3",
   "version": "3.9.12"
  }
 },
 "nbformat": 4,
 "nbformat_minor": 5
}
